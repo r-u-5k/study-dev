{
  "nbformat": 4,
  "nbformat_minor": 0,
  "metadata": {
    "colab": {
      "provenance": [],
      "include_colab_link": true
    },
    "kernelspec": {
      "name": "python3",
      "display_name": "Python 3"
    },
    "language_info": {
      "name": "python"
    }
  },
  "cells": [
    {
      "cell_type": "markdown",
      "metadata": {
        "id": "view-in-github",
        "colab_type": "text"
      },
      "source": [
        "<a href=\"https://colab.research.google.com/github/r-u-5k/study-dev/blob/master/bigdata/4-1-type1.ipynb\" target=\"_parent\"><img src=\"https://colab.research.google.com/assets/colab-badge.svg\" alt=\"Open In Colab\"/></a>"
      ]
    },
    {
      "cell_type": "markdown",
      "source": [
        "# 작업형1 모의문제1\n",
        "- data : members.csv\n",
        "- 한 개의 셀만 사용해서 문제를 풀어주세요"
      ],
      "metadata": {
        "id": "jvuNsPAY41yZ"
      }
    },
    {
      "cell_type": "markdown",
      "source": [
        "## 문제1\n",
        "- f1컬럼의 결측치는 중앙 값으로 대체하고\n",
        "- 나머지 결측치가 있는 데이터(행)을 모두 제거하고,\n",
        "- 앞에서부터 70% 데이터 중 views 컬럼의 3사분위 수에서 1사분위 수를 뺀 값을 구하시오\n",
        "- (단, 데이터 70% 지점은 정수형(int) 변환)"
      ],
      "metadata": {
        "id": "PVBhS3mWQOJp"
      }
    },
    {
      "cell_type": "code",
      "source": [
        "# your code\n",
        "import pandas as pd\n",
        "df = pd.read_csv(\"https://raw.githubusercontent.com/lovedlim/inf/main/p1/members.csv\")\n",
        "df['f1'] = df['f1'].fillna(df['f1'].median())\n",
        "df = df.dropna()\n",
        "df = df[:int(len(df) * 0.7)]\n",
        "v1 = df['views'].quantile(.75)\n",
        "v2 = df['views'].quantile(.25)\n",
        "print(v1 - v2)"
      ],
      "metadata": {
        "id": "d9UC9l2OQQ4m",
        "colab": {
          "base_uri": "https://localhost:8080/"
        },
        "outputId": "67a82079-a011-4549-96d4-772f572f32d3"
      },
      "execution_count": null,
      "outputs": [
        {
          "output_type": "stream",
          "name": "stdout",
          "text": [
            "3261.0\n"
          ]
        }
      ]
    },
    {
      "cell_type": "markdown",
      "source": [
        "## 문제2\n",
        "(변경 후) 변경 전과 동일한 문제입니다. 좀 더 명확하게 수정하였음\n",
        "- 주어진 데이터에서 결측치가 30% 이상인 컬럼을 A, 결측치가 30% 미만, 20% 이상인 컬럼을 B라고 가정하자.\n",
        "- A에 해당하는 컬럼은 결측치가 있는 데이터(행)를 삭제하시오.\n",
        "- B에 해당하는 컬럼은 결측치를 최빈값으로 대체하시오.\n",
        "- 'f3'컬럼의 'gold' 값을 가진 데이터 수를 구하시오\n",
        "\n",
        "\n",
        "(변경 전)\n",
        "- 주어진 데이터에서 결측치가 30%이상 되는 컬럼을 찾고 해당 컬럼에 결측치가 있는 데이터(행)를 삭제 함.\n",
        "- 그리고 30% 미만, 20% 이상인 결측치가 있는 컬럼은 최빈값으로 값을 대체하고\n",
        "- 'f3'컬럼의 'gold' 값을 가진 데이터 수를 출력하세요!"
      ],
      "metadata": {
        "id": "h2IXr3A_QRWS"
      }
    },
    {
      "cell_type": "code",
      "source": [
        "# your code\n",
        "import pandas as pd\n",
        "df = pd.read_csv(\"https://raw.githubusercontent.com/lovedlim/inf/main/p1/members.csv\")\n",
        "\n",
        "cols1 = df.columns[df.isnull().sum() >= len(df) * 0.3]\n",
        "df = df.dropna(subset=cols1)\n",
        "\n",
        "cols2 = df.columns[(df.isnull().sum() < len(df) * 0.3) & (df.isnull().sum() >= len(df) * 0.2)]\n",
        "\n",
        "for col in cols2:\n",
        "    df[col] = df[col].fillna(df[col].mode()[0])\n",
        "\n",
        "print(sum(df['f3'] == 'gold'))"
      ],
      "metadata": {
        "id": "SNMu1ew0QTnD",
        "colab": {
          "base_uri": "https://localhost:8080/"
        },
        "outputId": "82ecf1c9-f9c5-4a54-9f03-6106e8941d2b"
      },
      "execution_count": 31,
      "outputs": [
        {
          "output_type": "stream",
          "name": "stdout",
          "text": [
            "56\n"
          ]
        }
      ]
    },
    {
      "cell_type": "markdown",
      "source": [
        "## 문제3\n",
        "- views 컬럼에 결측치가 있는 데이터(행)을 삭제하고,\n",
        "- f3 컬럼의 결측치는 0, silver는 1, gold는 2, vip는 3 으로 변환한 후 총 합을 정수형으로 출력하시오"
      ],
      "metadata": {
        "id": "gV-W-F2wQTuw"
      }
    },
    {
      "cell_type": "code",
      "source": [
        "# your code\n",
        "import pandas as pd\n",
        "import numpy as np\n",
        "df = pd.read_csv(\"https://raw.githubusercontent.com/lovedlim/inf/main/p1/members.csv\")\n",
        "# print(df.head(10))\n",
        "df = df.dropna(subset=['views'])\n",
        "df['f3'] = df['f3'].replace({np.nan: 0, 'silver': 1, 'gold': 2, 'vip': 3})\n",
        "print(df['f3'].sum())\n",
        "# print(df.head(10))"
      ],
      "metadata": {
        "id": "TAP8aeX0QW3L",
        "colab": {
          "base_uri": "https://localhost:8080/"
        },
        "outputId": "98104405-cc20-4dbe-dc60-0e051ca2e62b"
      },
      "execution_count": 41,
      "outputs": [
        {
          "output_type": "stream",
          "name": "stdout",
          "text": [
            "133\n"
          ]
        },
        {
          "output_type": "stream",
          "name": "stderr",
          "text": [
            "/tmp/ipython-input-166079197.py:7: FutureWarning: Downcasting behavior in `replace` is deprecated and will be removed in a future version. To retain the old behavior, explicitly call `result.infer_objects(copy=False)`. To opt-in to the future behavior, set `pd.set_option('future.no_silent_downcasting', True)`\n",
            "  df['f3'] = df['f3'].replace({np.nan: 0, 'silver': 1, 'gold': 2, 'vip': 3})\n"
          ]
        }
      ]
    },
    {
      "cell_type": "code",
      "source": [
        "import pandas as pd\n",
        "import numpy as np\n",
        "df = pd.read_csv(\"https://raw.githubusercontent.com/lovedlim/inf/main/p1/members.csv\")\n",
        "df = df.dropna(subset=['views'])\n",
        "dict_list = {np.nan: 0, 'silver': 1, 'gold': 2, 'vip': 3}\n",
        "df['f3'] = df['f3'].map(dict_list)\n",
        "print(df['f3'].sum())"
      ],
      "metadata": {
        "colab": {
          "base_uri": "https://localhost:8080/"
        },
        "id": "qv-qzLNiWaw2",
        "outputId": "1e75fb96-bd61-46ed-e1ce-a06533d5ff1f"
      },
      "execution_count": 40,
      "outputs": [
        {
          "output_type": "stream",
          "name": "stdout",
          "text": [
            "133\n"
          ]
        }
      ]
    },
    {
      "cell_type": "markdown",
      "source": [
        "# 풀이"
      ],
      "metadata": {
        "id": "7wXaul1WQZth"
      }
    },
    {
      "cell_type": "markdown",
      "source": [
        "## 문제1\n",
        "- f1컬럼의 결측치는 중앙 값으로 대체하고\n",
        "- 나머지 결측치가 있는 데이터(행)을 모두 제거하고,\n",
        "- 앞에서부터 70% 데이터 중 views 컬럼의 3사분위 수에서 1사분위 수를 뺀 값을 구하시오\n",
        "- (단, 데이터 70% 지점은 정수형(int) 변환)"
      ],
      "metadata": {
        "id": "oz7POiFg5BbF"
      }
    },
    {
      "cell_type": "code",
      "execution_count": null,
      "metadata": {
        "id": "T0JqOyc24q9O",
        "colab": {
          "base_uri": "https://localhost:8080/"
        },
        "outputId": "5a62be7e-967c-4264-c0b5-fe855b83a483"
      },
      "outputs": [
        {
          "output_type": "stream",
          "name": "stdout",
          "text": [
            "3261.0\n"
          ]
        }
      ],
      "source": [
        "# 풀이\n",
        "import pandas as pd\n",
        "df = pd.read_csv(\"https://raw.githubusercontent.com/lovedlim/inf/main/p1/members.csv\")\n",
        "# df = pd.read_csv(\"members.csv\")\n",
        "\n",
        "df['f1'] = df['f1'].fillna(df['f1'].median())\n",
        "# print(df.isnull().sum())\n",
        "\n",
        "# print(df.shape)\n",
        "df = df.dropna()\n",
        "# print(df.shape)\n",
        "\n",
        "df = df[:int(len(df) * 0.7)]\n",
        "\n",
        "r1 = df['views'].quantile(.75)\n",
        "r2 = df['views'].quantile(.25)\n",
        "\n",
        "print(r1 - r2)"
      ]
    },
    {
      "cell_type": "markdown",
      "source": [
        "## 문제2\n",
        "(변경 후) 변경 전과 동일한 문제입니다. 좀 더 명확하게 수정하였음\n",
        "- 주어진 데이터에서 결측치가 30% 이상인 컬럼을 A, 결측치가 30% 미만, 20% 이상인 컬럼을 B라고 가정하자.\n",
        "- A에 해당하는 컬럼은 결측치가 있는 데이터(행)를 삭제하시오.\n",
        "- B에 해당하는 컬럼은 결측치를 해당 컬럼의 최빈값으로 대체하시오.\n",
        "- 'f3'컬럼의 'gold' 값을 가진 데이터 수를 구하시오\n",
        "\n",
        "\n",
        "(변경 전)\n",
        "- 주어진 데이터에서 결측치가 30%이상 되는 컬럼을 찾고 해당 컬럼에 결측치가 있는 데이터(행)를 삭제 함.\n",
        "- 그리고 30% 미만, 20% 이상인 결측치가 있는 컬럼은 최빈값으로 값을 대체하고\n",
        "- 'f3'컬럼의 'gold' 값을 가진 데이터 수를 출력하세요!\n"
      ],
      "metadata": {
        "id": "s8s-g51Z5EA7"
      }
    },
    {
      "cell_type": "code",
      "source": [
        "# 풀이\n",
        "import pandas as pd\n",
        "df = pd.read_csv(\"https://raw.githubusercontent.com/lovedlim/inf/main/p1/members.csv\")\n",
        "# df = pd.read_csv(\"members.csv\")\n",
        "\n",
        "# print(df.isnull().sum())\n",
        "\n",
        "# print(len(df) * 0.3)\n",
        "# f1 삭제\n",
        "# f3 최빈값\n",
        "\n",
        "# print(df.shape)\n",
        "df = df.dropna(subset=['f1'])\n",
        "# print(df.shape)\n",
        "\n",
        "# print(df.head())\n",
        "df['f3'] = df['f3'].fillna(df['f3'].mode()[0])\n",
        "# print(df.head())\n",
        "\n",
        "# df.isnull().sum()\n",
        "\n",
        "print(sum(df['f3'] == 'gold'))"
      ],
      "metadata": {
        "id": "9mpdqGoJD_zM",
        "colab": {
          "base_uri": "https://localhost:8080/"
        },
        "outputId": "0549b15d-fcfc-435f-8359-f4e7df70018a"
      },
      "execution_count": null,
      "outputs": [
        {
          "output_type": "stream",
          "name": "stdout",
          "text": [
            "56\n"
          ]
        }
      ]
    },
    {
      "cell_type": "markdown",
      "source": [
        "## 문제3\n",
        "- views 컬럼에 결측치가 있는 데이터(행)을 삭제하고,\n",
        "- f3 컬럼의 결측치는 0, silver는 1, gold는 2, vip는 3 으로 변환한 후 f3 컬럼의 총 합을 정수형으로 출력하시오"
      ],
      "metadata": {
        "id": "b2cZLPY75WQZ"
      }
    },
    {
      "cell_type": "code",
      "source": [
        "# replace 활용\n",
        "import pandas as pd\n",
        "df = pd.read_csv(\"https://raw.githubusercontent.com/lovedlim/inf/main/p1/members.csv\")\n",
        "# df = pd.read_csv(\"members.csv\")\n",
        "\n",
        "# print(df.shape)\n",
        "df = df.dropna(subset=['views'])\n",
        "# print(df.shape)\n",
        "\n",
        "# print(df.head(7))\n",
        "import numpy as np\n",
        "df['f3'] = df['f3'].replace(np.nan,0).replace('silver',1).replace('gold',2).replace('vip',3)\n",
        "# df['f3'] = df['f3'].replace('silver',1)\n",
        "# df['f3'] = df['f3'].replace('gold',2)\n",
        "# df['f3'] = df['f3'].replace('vip',3)\n",
        "# print(df.head(7))\n",
        "\n",
        "print(df['f3'].sum())"
      ],
      "metadata": {
        "id": "sxBinjrCrEhE",
        "colab": {
          "base_uri": "https://localhost:8080/"
        },
        "outputId": "eec33544-d5c7-4b61-de05-14c19aab1c90"
      },
      "execution_count": null,
      "outputs": [
        {
          "output_type": "stream",
          "name": "stdout",
          "text": [
            "133\n"
          ]
        },
        {
          "output_type": "stream",
          "name": "stderr",
          "text": [
            "/tmp/ipython-input-947831406.py:12: FutureWarning: Downcasting behavior in `replace` is deprecated and will be removed in a future version. To retain the old behavior, explicitly call `result.infer_objects(copy=False)`. To opt-in to the future behavior, set `pd.set_option('future.no_silent_downcasting', True)`\n",
            "  df['f3'] = df['f3'].replace(np.nan,0).replace('silver',1).replace('gold',2).replace('vip',3)\n"
          ]
        }
      ]
    },
    {
      "cell_type": "code",
      "source": [
        "# map 활용\n",
        "import pandas as pd\n",
        "df = pd.read_csv(\"https://raw.githubusercontent.com/lovedlim/inf/main/p1/members.csv\")\n",
        "# df = pd.read_csv(\"members.csv\")\n",
        "\n",
        "df = df.dropna(subset=['views'])\n",
        "\n",
        "dict_list = {np.nan:0, 'silver':1, 'gold':2, 'vip':3}\n",
        "df['f3'] = df['f3'].map(dict_list)\n",
        "\n",
        "print(df['f3'].sum())"
      ],
      "metadata": {
        "id": "zvQPlDj4rEmD",
        "colab": {
          "base_uri": "https://localhost:8080/"
        },
        "outputId": "e1db4437-8de7-44f2-b9fc-35e7b147756d"
      },
      "execution_count": null,
      "outputs": [
        {
          "output_type": "stream",
          "name": "stdout",
          "text": [
            "133\n"
          ]
        }
      ]
    },
    {
      "cell_type": "code",
      "source": [
        "# 조건 활용\n",
        "import pandas as pd\n",
        "df = pd.read_csv(\"https://raw.githubusercontent.com/lovedlim/inf/main/p1/members.csv\")\n",
        "# df = pd.read_csv(\"members.csv\")\n",
        "\n",
        "df = df.dropna(subset=['views'])\n",
        "\n",
        "r1 = sum(df['f3'] == 'silver') * 1\n",
        "r2 = sum(df['f3'] == 'gold') * 2\n",
        "r3 = sum(df['f3'] == 'vip') * 3\n",
        "print(r1 + r2 + r3)"
      ],
      "metadata": {
        "id": "nwd_BJuZrEv9",
        "colab": {
          "base_uri": "https://localhost:8080/"
        },
        "outputId": "92033fd1-b783-4cc2-9543-7a4323f159ac"
      },
      "execution_count": null,
      "outputs": [
        {
          "output_type": "stream",
          "name": "stdout",
          "text": [
            "133\n"
          ]
        }
      ]
    }
  ]
}