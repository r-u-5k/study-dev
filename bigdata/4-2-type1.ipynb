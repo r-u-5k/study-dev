{
  "nbformat": 4,
  "nbformat_minor": 0,
  "metadata": {
    "colab": {
      "provenance": [],
      "include_colab_link": true
    },
    "kernelspec": {
      "name": "python3",
      "display_name": "Python 3"
    },
    "language_info": {
      "name": "python"
    }
  },
  "cells": [
    {
      "cell_type": "markdown",
      "metadata": {
        "id": "view-in-github",
        "colab_type": "text"
      },
      "source": [
        "<a href=\"https://colab.research.google.com/github/r-u-5k/study-dev/blob/master/bigdata/4-2-type1.ipynb\" target=\"_parent\"><img src=\"https://colab.research.google.com/assets/colab-badge.svg\" alt=\"Open In Colab\"/></a>"
      ]
    },
    {
      "cell_type": "markdown",
      "source": [
        "# 작업형1 모의문제2\n",
        "- data : members.csv"
      ],
      "metadata": {
        "id": "jvuNsPAY41yZ"
      }
    },
    {
      "cell_type": "markdown",
      "source": [
        "## 문제4\n",
        "- 주어진 데이터에서 자료형(type)이 object인 컬럼은 삭제하고, 결측치는 0으로 대체한다.\n",
        "- 행 단위로 합한 다음 그 값이 3000보다 큰 값의 데이터 수를 구하시오\n",
        "('age', 'f1', 'f2', 'f5', 'views'의 각 행별 합)"
      ],
      "metadata": {
        "id": "PVBhS3mWQOJp"
      }
    },
    {
      "cell_type": "code",
      "source": [
        "# your code\n",
        "import pandas as pd\n",
        "df = pd.read_csv(\"https://raw.githubusercontent.com/lovedlim/inf/main/p1/members.csv\")\n",
        "cols = df.columns.tolist()\n",
        "for col in cols:\n",
        "    if df[col].dtype == 'object':\n",
        "        df = df.drop(col, axis=1)\n",
        "df = df.fillna(0)\n",
        "df = df.T\n",
        "print(sum(df.sum() > 3000))"
      ],
      "metadata": {
        "id": "d9UC9l2OQQ4m",
        "colab": {
          "base_uri": "https://localhost:8080/"
        },
        "outputId": "01174e5a-3b9a-4009-feae-da9386630e4a"
      },
      "execution_count": 6,
      "outputs": [
        {
          "output_type": "stream",
          "name": "stdout",
          "text": [
            "73\n"
          ]
        }
      ]
    },
    {
      "cell_type": "code",
      "source": [
        "import pandas as pd\n",
        "df = pd.read_csv(\"https://raw.githubusercontent.com/lovedlim/inf/main/p1/members.csv\")\n",
        "cols = df.select_dtypes(include='object').columns\n",
        "df = df.drop(cols, axis=1)\n",
        "df = df.fillna(0)\n",
        "df = df.T\n",
        "print(sum(df.sum() > 3000))"
      ],
      "metadata": {
        "colab": {
          "base_uri": "https://localhost:8080/"
        },
        "id": "vlhCVnEhLPii",
        "outputId": "2aababd0-29c3-4b48-e53b-6e0b62a4f857"
      },
      "execution_count": 7,
      "outputs": [
        {
          "output_type": "stream",
          "name": "stdout",
          "text": [
            "73\n"
          ]
        }
      ]
    },
    {
      "cell_type": "markdown",
      "source": [
        "## 문제5\n",
        "- 데이터에서 IQR을 활용해 views 컬럼의 이상치를 찾고, 이상치 데이터의 수를 구하시오"
      ],
      "metadata": {
        "id": "h2IXr3A_QRWS"
      }
    },
    {
      "cell_type": "code",
      "source": [
        "# your code\n",
        "import pandas as pd\n",
        "df = pd.read_csv(\"https://raw.githubusercontent.com/lovedlim/inf/main/p1/members.csv\")\n",
        "q3 = df['views'].quantile(.75)\n",
        "q1 = df['views'].quantile(.25)\n",
        "iqr = q3 - q1\n",
        "low = q1 - 1.5 * iqr\n",
        "high = q3 + 1.5 * iqr\n",
        "print(sum((df['views'] < low) | (df['views'] > high)))"
      ],
      "metadata": {
        "id": "SNMu1ew0QTnD",
        "colab": {
          "base_uri": "https://localhost:8080/"
        },
        "outputId": "97da8d59-5f5d-4910-b564-b3047f2e27c8"
      },
      "execution_count": 11,
      "outputs": [
        {
          "output_type": "stream",
          "name": "stdout",
          "text": [
            "4\n"
          ]
        }
      ]
    },
    {
      "cell_type": "markdown",
      "source": [
        "## 문제6\n",
        "- 'age' 컬럼의 이상치(소수점 나이와 음수나이, 0포함)를 제거하고\n",
        "- 제거 전 후의 views 컬럼 표준편차를 더하시오 (최종 결과 값은 소수 둘째자리까지 출력, 셋째자리에서 반올림)"
      ],
      "metadata": {
        "id": "gV-W-F2wQTuw"
      }
    },
    {
      "cell_type": "code",
      "source": [
        "# your code\n",
        "import pandas as pd\n",
        "import numpy as np\n",
        "df = pd.read_csv(\"https://raw.githubusercontent.com/lovedlim/inf/main/p1/members.csv\")\n",
        "before = df['views'].std()\n",
        "# print(df.shape)\n",
        "cond = (df['age'] <= 0) | (df['age'] != np.floor(df['age']))\n",
        "df = df[~cond]\n",
        "after = df['views'].std()\n",
        "# print(df.shape)\n",
        "print(round(before + after, 2))"
      ],
      "metadata": {
        "id": "TAP8aeX0QW3L",
        "colab": {
          "base_uri": "https://localhost:8080/"
        },
        "outputId": "b35c2c61-474f-43c8-f489-65a1f9307945"
      },
      "execution_count": 19,
      "outputs": [
        {
          "output_type": "stream",
          "name": "stdout",
          "text": [
            "8420.69\n"
          ]
        }
      ]
    },
    {
      "cell_type": "markdown",
      "source": [
        "# 풀이"
      ],
      "metadata": {
        "id": "7wXaul1WQZth"
      }
    },
    {
      "cell_type": "markdown",
      "source": [
        "## 문제4\n",
        "- 주어진 데이터에서 자료형(type)이 object인 컬럼은 삭제하고, 결측치는 0으로 대체한다.\n",
        "- 행 단위로 합한 다음 그 값이 3000보다 큰 값의 데이터 수를 구하시오\n",
        "('age', 'f1', 'f2', 'f5', 'views'의 각 행별 합)"
      ],
      "metadata": {
        "id": "oz7POiFg5BbF"
      }
    },
    {
      "cell_type": "code",
      "execution_count": null,
      "metadata": {
        "id": "T0JqOyc24q9O",
        "colab": {
          "base_uri": "https://localhost:8080/"
        },
        "outputId": "3b197e62-536f-4af2-9b8a-e1fbc8493eb5"
      },
      "outputs": [
        {
          "output_type": "stream",
          "name": "stdout",
          "text": [
            "73\n"
          ]
        }
      ],
      "source": [
        "# 풀이\n",
        "import pandas as pd\n",
        "df = pd.read_csv(\"https://raw.githubusercontent.com/lovedlim/inf/main/p1/members.csv\")\n",
        "\n",
        "# cols = df.select_dtypes(include='object').columns\n",
        "# cols\n",
        "# df = df.drop(cols, axis=1)\n",
        "# df.head()\n",
        "\n",
        "cols = df.select_dtypes(exclude='object').columns\n",
        "cols\n",
        "df = df[cols]\n",
        "df.head()\n",
        "\n",
        "df = df.fillna(0)\n",
        "df = df.T\n",
        "df.head()\n",
        "print(sum(df.sum() > 3000))"
      ]
    },
    {
      "cell_type": "markdown",
      "source": [
        "## 문제5\n",
        "- 데이터에서 IQR을 활용해 views 컬럼의 이상치를 찾고, 이상치 데이터의 수를 구하시오\n"
      ],
      "metadata": {
        "id": "s8s-g51Z5EA7"
      }
    },
    {
      "cell_type": "code",
      "source": [
        "# 풀이\n",
        "import pandas as pd\n",
        "df = pd.read_csv(\"https://raw.githubusercontent.com/lovedlim/inf/main/p1/members.csv\")\n",
        "\n",
        "q3 = df['views'].quantile(.75)\n",
        "q1 = df['views'].quantile(.25)\n",
        "\n",
        "IQR = q3 - q1\n",
        "# print(IQR)\n",
        "\n",
        "line1 = q1 - 1.5 * IQR\n",
        "line2 = q3 + 1.5 * IQR\n",
        "\n",
        "\n",
        "print(sum(df['views'] < line1) + sum(df['views'] > line2))"
      ],
      "metadata": {
        "id": "9mpdqGoJD_zM",
        "colab": {
          "base_uri": "https://localhost:8080/"
        },
        "outputId": "1ba32fc1-16b6-4543-95f9-403efa7c7212"
      },
      "execution_count": null,
      "outputs": [
        {
          "output_type": "stream",
          "name": "stdout",
          "text": [
            "4\n"
          ]
        }
      ]
    },
    {
      "cell_type": "markdown",
      "source": [
        "## 문제6\n",
        "- 'age' 컬럼의 이상치(소수점 나이와 음수나이, 0포함)를 제거하고\n",
        "- 제거 전 후의 views 컬럼 표준편차를 더하시오 (최종 결과 값은 소수 둘째자리까지 출력, 셋째자리에서 반올림)"
      ],
      "metadata": {
        "id": "ssStdfrWuUGA"
      }
    },
    {
      "cell_type": "code",
      "source": [
        "# 풀이\n",
        "import pandas as pd\n",
        "df = pd.read_csv(\"https://raw.githubusercontent.com/lovedlim/inf/main/p1/members.csv\")\n",
        "\n",
        "r1 = df['views'].std()\n",
        "\n",
        "cond = df['age'] <= 0\n",
        "# print(df.shape)\n",
        "df = df[~cond]\n",
        "# print(df.shape)\n",
        "\n",
        "# print(df.shape)\n",
        "cond = df['age'] == round(df['age'],0)\n",
        "df = df[cond]\n",
        "# print(df.shape)\n",
        "\n",
        "r2 = df['views'].std()\n",
        "\n",
        "print(round(r1 + r2, 2))"
      ],
      "metadata": {
        "id": "jg9GOVGWuUiT",
        "colab": {
          "base_uri": "https://localhost:8080/"
        },
        "outputId": "fd9302d9-5105-430e-bf71-41172ad9a278"
      },
      "execution_count": null,
      "outputs": [
        {
          "output_type": "stream",
          "name": "stdout",
          "text": [
            "8420.69\n"
          ]
        }
      ]
    },
    {
      "cell_type": "code",
      "source": [],
      "metadata": {
        "id": "UjTZx21OEI8p"
      },
      "execution_count": null,
      "outputs": []
    }
  ]
}