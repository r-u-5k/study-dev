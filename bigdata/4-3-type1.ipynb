{
  "nbformat": 4,
  "nbformat_minor": 0,
  "metadata": {
    "colab": {
      "provenance": [],
      "include_colab_link": true
    },
    "kernelspec": {
      "name": "python3",
      "display_name": "Python 3"
    },
    "language_info": {
      "name": "python"
    }
  },
  "cells": [
    {
      "cell_type": "markdown",
      "metadata": {
        "id": "view-in-github",
        "colab_type": "text"
      },
      "source": [
        "<a href=\"https://colab.research.google.com/github/r-u-5k/study-dev/blob/master/bigdata/4-3-type1.ipynb\" target=\"_parent\"><img src=\"https://colab.research.google.com/assets/colab-badge.svg\" alt=\"Open In Colab\"/></a>"
      ]
    },
    {
      "cell_type": "markdown",
      "source": [
        "# 작업형1 모의문제3\n",
        "- data : members.csv"
      ],
      "metadata": {
        "id": "jvuNsPAY41yZ"
      }
    },
    {
      "cell_type": "markdown",
      "source": [
        "## 문제7\n",
        "- index '2001' 데이터(행)에서 해당 행의 평균보다 큰 값의 개수를 A라 한다.\n",
        "- index '2003' 데이터(행)에서 해당 행의 평균보다 작은 값의 개수를 B라 한다.\n",
        "- A와 B를 더한 값을 구하여 답으로 제출하라.\n",
        "\n",
        "[참고]\n",
        "- 데이터가 랜덤으로 생성되어 결과값이 다를 수 있습니다. 🙏\n",
        "- 혹, 랜덤 결과값을 고정하기 위해서는 seed값을 넣어 주면 됩니다.\n",
        "- import random 이후 random.seed(2022) 입력\n",
        "- 정답: 202 (영상에서 seed값을 고정하지 못해 동일한 데이터 구현을 못했습니다. 202가 정답입니다.)"
      ],
      "metadata": {
        "id": "PVBhS3mWQOJp"
      }
    },
    {
      "cell_type": "code",
      "source": [
        "# 데이터 생성(먼저 실행해 주세요)\n",
        "import pandas as pd\n",
        "import random\n",
        "random.seed(2022)\n",
        "df = pd.DataFrame()\n",
        "for i in range(0, 5):\n",
        "    list_box = []\n",
        "    for k in range(0, 200):\n",
        "        ran_num = random.randint(1,200)\n",
        "        list_box.append(ran_num)\n",
        "    df[i+2000] = list_box\n",
        "df = df.T\n",
        "df.to_csv(\"data.csv\", index=True)"
      ],
      "metadata": {
        "id": "D62uzCgSedAM"
      },
      "execution_count": 1,
      "outputs": []
    },
    {
      "cell_type": "code",
      "source": [
        "df = pd.read_csv(\"data.csv\", index_col=\"Unnamed: 0\")\n",
        "# your code\n",
        "A = sum(df.loc[2001] > df.loc[2001].mean())\n",
        "B = sum(df.loc[2003] < df.loc[2003].mean())\n",
        "print(A + B)"
      ],
      "metadata": {
        "id": "d9UC9l2OQQ4m",
        "colab": {
          "base_uri": "https://localhost:8080/"
        },
        "outputId": "52d91616-2b28-463a-efff-407690b835cb"
      },
      "execution_count": 12,
      "outputs": [
        {
          "output_type": "stream",
          "name": "stdout",
          "text": [
            "202\n"
          ]
        }
      ]
    },
    {
      "cell_type": "markdown",
      "source": [
        "## 문제8\n",
        "- 결측 값을 가진 데이터는 바로 뒤에 있는 값으로 대체한 후 (바로 뒤가 결측값이라면 뒤에 있는 데이터 중 가장 가까운 값)\n",
        "- city와 f2 컬럼 기준으로 그룹합을 계산한 뒤\n",
        "- views가 세번째로 큰 city(도시) 이름은?"
      ],
      "metadata": {
        "id": "h2IXr3A_QRWS"
      }
    },
    {
      "cell_type": "code",
      "source": [
        "# your code\n",
        "import pandas as pd\n",
        "df = pd.read_csv(\"https://raw.githubusercontent.com/lovedlim/inf/main/p1/members.csv\")\n",
        "df = df.fillna(method='bfill')\n",
        "# df.head()\n",
        "df = df.groupby(['city', 'f2']).sum(numeric_only=True).reset_index().sort_values('views', ascending=False)\n",
        "print(df.iloc[2, 0])"
      ],
      "metadata": {
        "id": "SNMu1ew0QTnD",
        "colab": {
          "base_uri": "https://localhost:8080/"
        },
        "outputId": "ed9b3a78-b53e-401e-9726-105cbda729ad"
      },
      "execution_count": 13,
      "outputs": [
        {
          "output_type": "stream",
          "name": "stdout",
          "text": [
            "대구\n"
          ]
        },
        {
          "output_type": "stream",
          "name": "stderr",
          "text": [
            "/tmp/ipython-input-1532626992.py:4: FutureWarning: DataFrame.fillna with 'method' is deprecated and will raise in a future version. Use obj.ffill() or obj.bfill() instead.\n",
            "  df = df.fillna(method='bfill')\n"
          ]
        }
      ]
    },
    {
      "cell_type": "markdown",
      "source": [
        "## 문제9\n",
        "- 구독(subscribed) 월별로 데이터 개수를 구한 뒤\n",
        "- 가장 작은 구독 수가 있는 월을 구하시오"
      ],
      "metadata": {
        "id": "gV-W-F2wQTuw"
      }
    },
    {
      "cell_type": "code",
      "source": [
        "# your code\n",
        "import pandas as pd\n",
        "df = pd.read_csv(\"https://raw.githubusercontent.com/lovedlim/inf/main/p1/members.csv\")\n",
        "# df.head()\n",
        "df['subscribed'] = pd.to_datetime(df['subscribed'])\n",
        "df['month'] = df['subscribed'].dt.month\n",
        "df = df.groupby('month').count()\n",
        "print(df.sort_values('subscribed').iloc[0]['subscribed'])"
      ],
      "metadata": {
        "id": "TAP8aeX0QW3L",
        "colab": {
          "base_uri": "https://localhost:8080/"
        },
        "outputId": "d8a888c3-0a3f-4b7d-f1f8-fc7fc123a64c"
      },
      "execution_count": 27,
      "outputs": [
        {
          "output_type": "stream",
          "name": "stdout",
          "text": [
            "5\n"
          ]
        }
      ]
    },
    {
      "cell_type": "markdown",
      "source": [
        "# 풀이"
      ],
      "metadata": {
        "id": "7wXaul1WQZth"
      }
    },
    {
      "cell_type": "markdown",
      "source": [
        "## 문제7\n",
        "- index '2001' 데이터(행)에서 해당 행의 평균보다 큰 값의 개수를 A라 한다.\n",
        "- index '2003' 데이터(행)에서 해당 행의 평균보다 작은 값의 개수를 B라 한다.\n",
        "- A와 B를 더한 값을 구하여 답으로 제출하라."
      ],
      "metadata": {
        "id": "xZSeADoX9iEQ"
      }
    },
    {
      "cell_type": "code",
      "source": [
        "# 데이터 생성\n",
        "import pandas as pd\n",
        "import random\n",
        "random.seed(2022)\n",
        "df = pd.DataFrame()\n",
        "for i in range(0, 5):\n",
        "    list_box = []\n",
        "    for k in range(0, 200):\n",
        "        ran_num = random.randint(1,200)\n",
        "        list_box.append(ran_num)\n",
        "    df[i+2000] = list_box\n",
        "df = df.T\n",
        "df.to_csv(\"data.csv\", index=True)"
      ],
      "metadata": {
        "id": "-Knnz-hm95Zc"
      },
      "execution_count": null,
      "outputs": []
    },
    {
      "cell_type": "code",
      "source": [
        "# 풀이\n",
        "df = pd.read_csv(\"data.csv\", index_col=\"Unnamed: 0\")\n",
        "# print(df.head(2))\n",
        "\n",
        "m2001 = df.loc[2001].mean()\n",
        "# print(m2001)\n",
        "cond = df.loc[2001] > m2001\n",
        "r1 = sum(cond)\n",
        "\n",
        "m2003 = df.loc[2003].mean()\n",
        "cond = df.loc[2003] < m2003\n",
        "r2 = sum(cond)\n",
        "\n",
        "print(r1+r2)"
      ],
      "metadata": {
        "id": "IvJ_vQcv95fH",
        "colab": {
          "base_uri": "https://localhost:8080/"
        },
        "outputId": "84736b00-acfc-44b2-82fd-5c6c2ee240f4"
      },
      "execution_count": null,
      "outputs": [
        {
          "output_type": "stream",
          "name": "stdout",
          "text": [
            "202\n"
          ]
        }
      ]
    },
    {
      "cell_type": "markdown",
      "source": [
        "## 문제8\n",
        "- 결측 값을 가진 데이터는 바로 뒤에 있는 값으로 대체한 후 (바로 뒤가 결측값이라면 뒤에 있는 데이터 중 가장 가까운 값)\n",
        "- city와 f2 컬럼 기준으로 그룹합을 계산한 뒤\n",
        "- views가 세번째로 큰 city(도시) 이름은?\n"
      ],
      "metadata": {
        "id": "oz7POiFg5BbF"
      }
    },
    {
      "cell_type": "code",
      "execution_count": null,
      "metadata": {
        "colab": {
          "base_uri": "https://localhost:8080/"
        },
        "id": "T0JqOyc24q9O",
        "outputId": "33d8756b-c8cf-4c1a-f71e-a127cc4363c2"
      },
      "outputs": [
        {
          "output_type": "stream",
          "name": "stdout",
          "text": [
            "대구\n"
          ]
        },
        {
          "output_type": "stream",
          "name": "stderr",
          "text": [
            "<ipython-input-2-1ef4ae5b4d6b>:7: FutureWarning: DataFrame.fillna with 'method' is deprecated and will raise in a future version. Use obj.ffill() or obj.bfill() instead.\n",
            "  df = df.fillna(method='bfill')\n"
          ]
        }
      ],
      "source": [
        "# 풀이\n",
        "import pandas as pd\n",
        "df = pd.read_csv(\"https://raw.githubusercontent.com/lovedlim/inf/main/p1/members.csv\")\n",
        "\n",
        "# df.isnull().sum()\n",
        "# display(df.head(7))\n",
        "df = df.fillna(method='bfill')\n",
        "# display(df.head(7))\n",
        "\n",
        "df = df.groupby(['city','f2']).sum().reset_index()\n",
        "df = df.sort_values('views', ascending=False)\n",
        "print(df.iloc[2,0])"
      ]
    },
    {
      "cell_type": "markdown",
      "source": [
        "❤️ 추가 설명 ❤️\n",
        "- numeric_only관련 워닝이 발생되면 sum() mean() corr() 등 함수 괄호 안에 numeric_only=True를 넣어주세요\n",
        "\n",
        "- 원인은 수치형 데이터 외에 범주형 데이터도 함께 있어서 워닝(경고)가 발생했어요\n",
        "\n",
        "- FutureWarning: DataFrame.fillna with 'method' is deprecated and will raise in a future version. Use obj.ffill() or obj.bfill() instead.\n",
        "  df = df.fillna(method='bfill') 는 무시해도 좋습니다."
      ],
      "metadata": {
        "id": "iTuhvfxEfPiH"
      }
    },
    {
      "cell_type": "markdown",
      "source": [
        "## 문제9\n",
        "- 구독(subscribed) 월별로 데이터 갯수를 구한 뒤\n",
        "- 가장 작은 구독 수가 있는 월을 구하시오"
      ],
      "metadata": {
        "id": "s8s-g51Z5EA7"
      }
    },
    {
      "cell_type": "code",
      "source": [
        "# 풀이\n",
        "import pandas as pd\n",
        "df = pd.read_csv(\"https://raw.githubusercontent.com/lovedlim/inf/main/p1/members.csv\")\n",
        "\n",
        "df['subscribed'] = pd.to_datetime(df['subscribed'])\n",
        "df['year'] = df['subscribed'].dt.year\n",
        "df['month'] = df['subscribed'].dt.month\n",
        "df['day'] = df['subscribed'].dt.day\n",
        "\n",
        "df = df.groupby('month').count()\n",
        "df.sort_values('subscribed').index[0]"
      ],
      "metadata": {
        "colab": {
          "base_uri": "https://localhost:8080/"
        },
        "id": "9mpdqGoJD_zM",
        "outputId": "2b75ddde-4a45-42a4-a60f-1797839e61e2"
      },
      "execution_count": 21,
      "outputs": [
        {
          "output_type": "execute_result",
          "data": {
            "text/plain": [
              "np.int32(11)"
            ]
          },
          "metadata": {},
          "execution_count": 21
        }
      ]
    },
    {
      "cell_type": "code",
      "source": [],
      "metadata": {
        "id": "y6F4aPCJfgNt"
      },
      "execution_count": null,
      "outputs": []
    },
    {
      "cell_type": "code",
      "source": [],
      "metadata": {
        "id": "N01NaXCAfgP5"
      },
      "execution_count": null,
      "outputs": []
    },
    {
      "cell_type": "code",
      "source": [],
      "metadata": {
        "id": "ZqBPXFDufgR_"
      },
      "execution_count": null,
      "outputs": []
    },
    {
      "cell_type": "code",
      "source": [],
      "metadata": {
        "id": "NhjGM19MfgUJ"
      },
      "execution_count": null,
      "outputs": []
    },
    {
      "cell_type": "code",
      "source": [],
      "metadata": {
        "id": "Tix6AOgsfjF6"
      },
      "execution_count": null,
      "outputs": []
    }
  ]
}